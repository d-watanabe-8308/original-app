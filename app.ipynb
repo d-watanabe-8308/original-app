{
  "nbformat": 4,
  "nbformat_minor": 0,
  "metadata": {
    "colab": {
      "provenance": [],
      "gpuType": "T4",
      "authorship_tag": "ABX9TyPaKk7+8ocyq48oKyQHy27m",
      "include_colab_link": true
    },
    "kernelspec": {
      "name": "python3",
      "display_name": "Python 3"
    },
    "language_info": {
      "name": "python"
    },
    "accelerator": "GPU"
  },
  "cells": [
    {
      "cell_type": "markdown",
      "metadata": {
        "id": "view-in-github",
        "colab_type": "text"
      },
      "source": [
        "<a href=\"https://colab.research.google.com/github/d-watanabe-8308/original-app/blob/main/app.ipynb\" target=\"_parent\"><img src=\"https://colab.research.google.com/assets/colab-badge.svg\" alt=\"Open In Colab\"/></a>"
      ]
    },
    {
      "cell_type": "code",
      "source": [
        "!pip install mysql-connector-python\n",
        "import mysql.connector\n",
        "\n",
        "# MySQLデータベースの接続情報を設定します\n",
        "config = {\n",
        "    'user': 'test',\n",
        "    'password': '1234abc',\n",
        "    'host': '43.207.111.176',\n",
        "    'database': 'users',\n",
        "    'raise_on_warnings': True\n",
        "}\n",
        "\n",
        "try:\n",
        "    # MySQLデータベースに接続します\n",
        "    cnx = mysql.connector.connect(**config)\n",
        "    print(\"MySQLサーバーへの接続に成功しました！\")\n",
        "\n",
        "    # データベースの接続をクローズします\n",
        "    cnx.close()\n",
        "except mysql.connector.Error as err:\n",
        "    print(\"MySQLサーバーへの接続に失敗しました。エラー:\", err)\n",
        "\n",
        "\n"
      ],
      "metadata": {
        "colab": {
          "base_uri": "https://localhost:8080/"
        },
        "id": "LEY0wo_HVJxb",
        "outputId": "cd3ca789-610d-4222-9ca1-cebcc00e19fe"
      },
      "execution_count": 1,
      "outputs": [
        {
          "output_type": "stream",
          "name": "stdout",
          "text": [
            "Looking in indexes: https://pypi.org/simple, https://us-python.pkg.dev/colab-wheels/public/simple/\n",
            "Collecting mysql-connector-python\n",
            "  Downloading mysql_connector_python-8.0.33-cp310-cp310-manylinux1_x86_64.whl (27.4 MB)\n",
            "\u001b[2K     \u001b[90m━━━━━━━━━━━━━━━━━━━━━━━━━━━━━━━━━━━━━━━━\u001b[0m \u001b[32m27.4/27.4 MB\u001b[0m \u001b[31m61.0 MB/s\u001b[0m eta \u001b[36m0:00:00\u001b[0m\n",
            "\u001b[?25hRequirement already satisfied: protobuf<=3.20.3,>=3.11.0 in /usr/local/lib/python3.10/dist-packages (from mysql-connector-python) (3.20.3)\n",
            "Installing collected packages: mysql-connector-python\n",
            "Successfully installed mysql-connector-python-8.0.33\n",
            "MySQLサーバーへの接続に失敗しました。エラー: 2003 (HY000): Can't connect to MySQL server on '43.207.111.176:3306' (110)\n"
          ]
        }
      ]
    }
  ]
}